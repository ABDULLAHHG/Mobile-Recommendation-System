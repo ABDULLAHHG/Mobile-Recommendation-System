{
 "cells": [
  {
   "cell_type": "code",
   "execution_count": 5,
   "id": "4a0a92b8-0654-4b06-83dc-cf5a384204cc",
   "metadata": {},
   "outputs": [],
   "source": [
    "import requests\n",
    "from bs4 import BeautifulSoup\n",
    "import time\n",
    "import pandas as pd \n",
    "import numpy as np"
   ]
  },
  {
   "cell_type": "code",
   "execution_count": 6,
   "id": "7f0f8b8c-e664-4504-b2a1-0e82533a9e08",
   "metadata": {},
   "outputs": [],
   "source": [
    "df = pd.read_csv(\"WebScraping/Data/GSMArena/CSV/Devices.csv\",index_col = 0)"
   ]
  },
  {
   "cell_type": "markdown",
   "id": "e5934d77-056f-4f52-a234-054abc3ed8e6",
   "metadata": {},
   "source": [
    "### Let first extruct the year for each device idk where \n",
    "i have write the code for it i dont remember \n"
   ]
  },
  {
   "cell_type": "code",
   "execution_count": 7,
   "id": "03c9658e-8487-4f00-bd7c-2ad2ac1b49c4",
   "metadata": {},
   "outputs": [],
   "source": [
    "df[\"year\"] = df.Corpus.str.findall(r\"Announced.*(\\d\\d\\d\\d)\\.\").str[0]"
   ]
  },
  {
   "cell_type": "code",
   "execution_count": 8,
   "id": "d690f87f-c830-4c71-96e9-2431f02a22ea",
   "metadata": {},
   "outputs": [],
   "source": [
    "df = df.dropna()"
   ]
  },
  {
   "cell_type": "code",
   "execution_count": 9,
   "id": "ec44c52c-ede8-42f5-b37f-9c1e41c87ffa",
   "metadata": {},
   "outputs": [],
   "source": [
    "df.year = df.year.astype(\"int32\")"
   ]
  },
  {
   "cell_type": "code",
   "execution_count": 10,
   "id": "600e7c1f-f9c3-4c1d-becb-ed66037d1796",
   "metadata": {},
   "outputs": [],
   "source": [
    "df = df.dropna()"
   ]
  },
  {
   "cell_type": "code",
   "execution_count": 11,
   "id": "1d5ba050-234c-4587-8a4a-b6290fc3a68d",
   "metadata": {},
   "outputs": [],
   "source": [
    "df2022 = df[df.year > 2022]"
   ]
  },
  {
   "cell_type": "code",
   "execution_count": 12,
   "id": "d0341566-a23e-44d8-a440-62464fa8f555",
   "metadata": {},
   "outputs": [
    {
     "data": {
      "text/plain": [
       "'Acer Liquid Z6 Android smartphone. Announced Aug 2016. Features 5.0″  display, MT6737 chipset, 8 MP primary camera, 2 MP front camera, 2000 mAh battery, 8 GB storage, 1000 MB RAM.'"
      ]
     },
     "execution_count": 12,
     "metadata": {},
     "output_type": "execute_result"
    }
   ],
   "source": [
    "df.Corpus[3]"
   ]
  },
  {
   "cell_type": "code",
   "execution_count": null,
   "id": "fadff3ad-6868-4ec1-8f4f-8422bc5d16cb",
   "metadata": {},
   "outputs": [],
   "source": []
  },
  {
   "cell_type": "code",
   "execution_count": 13,
   "id": "c6ea0ecf-7269-4f27-965b-b2b83a17a7dd",
   "metadata": {},
   "outputs": [],
   "source": [
    "# for find display (\\d\\.\\d).*display\n"
   ]
  },
  {
   "cell_type": "code",
   "execution_count": 14,
   "id": "f7e5c5d7-6553-452c-ab21-528b4189bf28",
   "metadata": {
    "scrolled": true
   },
   "outputs": [
    {
     "data": {
      "text/html": [
       "<div>\n",
       "<style scoped>\n",
       "    .dataframe tbody tr th:only-of-type {\n",
       "        vertical-align: middle;\n",
       "    }\n",
       "\n",
       "    .dataframe tbody tr th {\n",
       "        vertical-align: top;\n",
       "    }\n",
       "\n",
       "    .dataframe thead th {\n",
       "        text-align: right;\n",
       "    }\n",
       "</style>\n",
       "<table border=\"1\" class=\"dataframe\">\n",
       "  <thead>\n",
       "    <tr style=\"text-align: right;\">\n",
       "      <th></th>\n",
       "      <th>Device</th>\n",
       "      <th>Brand</th>\n",
       "      <th>Corpus</th>\n",
       "      <th>year</th>\n",
       "    </tr>\n",
       "  </thead>\n",
       "  <tbody>\n",
       "    <tr>\n",
       "      <th>0</th>\n",
       "      <td>Chromebook Tab 10</td>\n",
       "      <td>Acer</td>\n",
       "      <td>Acer Chromebook Tab 10 tablet. Announced Mar 2...</td>\n",
       "      <td>2018</td>\n",
       "    </tr>\n",
       "    <tr>\n",
       "      <th>1</th>\n",
       "      <td>Iconia Talk S</td>\n",
       "      <td>Acer</td>\n",
       "      <td>Acer Iconia Talk S Android tablet. Announced A...</td>\n",
       "      <td>2016</td>\n",
       "    </tr>\n",
       "    <tr>\n",
       "      <th>2</th>\n",
       "      <td>Liquid Z6 Plus</td>\n",
       "      <td>Acer</td>\n",
       "      <td>Acer Liquid Z6 Plus Android smartphone. Announ...</td>\n",
       "      <td>2016</td>\n",
       "    </tr>\n",
       "    <tr>\n",
       "      <th>3</th>\n",
       "      <td>Liquid Z6</td>\n",
       "      <td>Acer</td>\n",
       "      <td>Acer Liquid Z6 Android smartphone. Announced A...</td>\n",
       "      <td>2016</td>\n",
       "    </tr>\n",
       "    <tr>\n",
       "      <th>4</th>\n",
       "      <td>Iconia Tab 10 A3-A40</td>\n",
       "      <td>Acer</td>\n",
       "      <td>Acer Iconia Tab 10 A3-A40 Android tablet. Anno...</td>\n",
       "      <td>2016</td>\n",
       "    </tr>\n",
       "    <tr>\n",
       "      <th>...</th>\n",
       "      <td>...</td>\n",
       "      <td>...</td>\n",
       "      <td>...</td>\n",
       "      <td>...</td>\n",
       "    </tr>\n",
       "    <tr>\n",
       "      <th>12552</th>\n",
       "      <td>F928</td>\n",
       "      <td>ZTE</td>\n",
       "      <td>ZTE F928 phone. Announced Sep 2008. Features T...</td>\n",
       "      <td>2008</td>\n",
       "    </tr>\n",
       "    <tr>\n",
       "      <th>12553</th>\n",
       "      <td>F870</td>\n",
       "      <td>ZTE</td>\n",
       "      <td>ZTE F870 phone. Announced  2009. Features 3.2″...</td>\n",
       "      <td>2009</td>\n",
       "    </tr>\n",
       "    <tr>\n",
       "      <th>12554</th>\n",
       "      <td>F600</td>\n",
       "      <td>ZTE</td>\n",
       "      <td>ZTE F600 phone. Announced  2009. Features 2.4″...</td>\n",
       "      <td>2009</td>\n",
       "    </tr>\n",
       "    <tr>\n",
       "      <th>12555</th>\n",
       "      <td>F103</td>\n",
       "      <td>ZTE</td>\n",
       "      <td>ZTE F103 phone. Announced  2009. Features 2.0″...</td>\n",
       "      <td>2009</td>\n",
       "    </tr>\n",
       "    <tr>\n",
       "      <th>12556</th>\n",
       "      <td>F101</td>\n",
       "      <td>ZTE</td>\n",
       "      <td>ZTE F101 phone. Announced  2009. Features 2.0″...</td>\n",
       "      <td>2009</td>\n",
       "    </tr>\n",
       "  </tbody>\n",
       "</table>\n",
       "<p>12468 rows × 4 columns</p>\n",
       "</div>"
      ],
      "text/plain": [
       "                     Device Brand  \\\n",
       "0         Chromebook Tab 10  Acer   \n",
       "1             Iconia Talk S  Acer   \n",
       "2            Liquid Z6 Plus  Acer   \n",
       "3                 Liquid Z6  Acer   \n",
       "4      Iconia Tab 10 A3-A40  Acer   \n",
       "...                     ...   ...   \n",
       "12552                  F928   ZTE   \n",
       "12553                  F870   ZTE   \n",
       "12554                  F600   ZTE   \n",
       "12555                  F103   ZTE   \n",
       "12556                  F101   ZTE   \n",
       "\n",
       "                                                  Corpus  year  \n",
       "0      Acer Chromebook Tab 10 tablet. Announced Mar 2...  2018  \n",
       "1      Acer Iconia Talk S Android tablet. Announced A...  2016  \n",
       "2      Acer Liquid Z6 Plus Android smartphone. Announ...  2016  \n",
       "3      Acer Liquid Z6 Android smartphone. Announced A...  2016  \n",
       "4      Acer Iconia Tab 10 A3-A40 Android tablet. Anno...  2016  \n",
       "...                                                  ...   ...  \n",
       "12552  ZTE F928 phone. Announced Sep 2008. Features T...  2008  \n",
       "12553  ZTE F870 phone. Announced  2009. Features 3.2″...  2009  \n",
       "12554  ZTE F600 phone. Announced  2009. Features 2.4″...  2009  \n",
       "12555  ZTE F103 phone. Announced  2009. Features 2.0″...  2009  \n",
       "12556  ZTE F101 phone. Announced  2009. Features 2.0″...  2009  \n",
       "\n",
       "[12468 rows x 4 columns]"
      ]
     },
     "execution_count": 14,
     "metadata": {},
     "output_type": "execute_result"
    }
   ],
   "source": [
    "df"
   ]
  },
  {
   "cell_type": "code",
   "execution_count": 15,
   "id": "30deb365-c816-4db7-8a18-d3dbf192a622",
   "metadata": {},
   "outputs": [],
   "source": [
    "df2022 = df2022.reset_index(drop = True)"
   ]
  },
  {
   "cell_type": "code",
   "execution_count": 16,
   "id": "37c81fda-676a-450f-a606-1509b0517227",
   "metadata": {},
   "outputs": [],
   "source": [
    "df2022.to_csv(\"WebScraping/Data/Used/CSV/dfUptodate2022.csv\")"
   ]
  },
  {
   "cell_type": "code",
   "execution_count": 17,
   "id": "d9d4272b-8643-41c4-b787-4714725c88dd",
   "metadata": {},
   "outputs": [],
   "source": [
    "# https://www.kimovil.com/en/where-to-buy-xiaomi-redmi-note-13-pro-plus"
   ]
  },
  {
   "cell_type": "code",
   "execution_count": 18,
   "id": "a676087a-e2f7-4c65-8238-c16fb0cf4199",
   "metadata": {},
   "outputs": [],
   "source": [
    "df2022 = pd.read_csv(\"WebScraping/Data/Used/CSV/dfUptodate2022.csv\" , index_col = 0 )"
   ]
  },
  {
   "cell_type": "code",
   "execution_count": null,
   "id": "ebca423a-8475-495c-bac7-d092d038db2a",
   "metadata": {},
   "outputs": [],
   "source": []
  },
  {
   "cell_type": "markdown",
   "id": "a3f4ee23-cc6a-4eae-9289-31ac41229769",
   "metadata": {},
   "source": [
    "#### ok that is the pattern for the website for each device"
   ]
  },
  {
   "cell_type": "code",
   "execution_count": 19,
   "id": "083c0d7d-5230-4336-8ead-8682a8f52a46",
   "metadata": {},
   "outputs": [],
   "source": [
    "link = []\n",
    "for idx in range(len(df2022)):\n",
    "    link.append(\"https://www.kimovil.com/en/where-to-buy-\"+df2022.Brand[idx].lower()+\"-\"+ df2022.Device[idx].lower().replace(\" \" , \"-\"))\n",
    "df2022[\"Link\"] = link "
   ]
  },
  {
   "cell_type": "code",
   "execution_count": 20,
   "id": "8125791b-d04e-4af8-bf4e-9e1dda609607",
   "metadata": {},
   "outputs": [
    {
     "data": {
      "text/plain": [
       "0           https://www.kimovil.com/en/where-to-buy-amazon-fire-max-11\n",
       "1      https://www.kimovil.com/en/where-to-buy-apple-iphone-15-pro-max\n",
       "2          https://www.kimovil.com/en/where-to-buy-apple-iphone-15-pro\n",
       "3         https://www.kimovil.com/en/where-to-buy-apple-iphone-15-plus\n",
       "4              https://www.kimovil.com/en/where-to-buy-apple-iphone-15\n",
       "                                    ...                               \n",
       "533                    https://www.kimovil.com/en/where-to-buy-zte-v70\n",
       "534          https://www.kimovil.com/en/where-to-buy-zte-axon-50-ultra\n",
       "535               https://www.kimovil.com/en/where-to-buy-zte-axon-pad\n",
       "536        https://www.kimovil.com/en/where-to-buy-zte-nubia-z50-ultra\n",
       "537           https://www.kimovil.com/en/where-to-buy-zte-nubia-pad-3d\n",
       "Name: Link, Length: 538, dtype: object"
      ]
     },
     "execution_count": 20,
     "metadata": {},
     "output_type": "execute_result"
    }
   ],
   "source": [
    "pd.options.display.max_colwidth = 1000\n",
    "df2022.Link"
   ]
  },
  {
   "cell_type": "code",
   "execution_count": 21,
   "id": "3eab4206-87a0-48b8-89b8-34b92b75066d",
   "metadata": {},
   "outputs": [
    {
     "data": {
      "text/html": [
       "<div>\n",
       "<style scoped>\n",
       "    .dataframe tbody tr th:only-of-type {\n",
       "        vertical-align: middle;\n",
       "    }\n",
       "\n",
       "    .dataframe tbody tr th {\n",
       "        vertical-align: top;\n",
       "    }\n",
       "\n",
       "    .dataframe thead th {\n",
       "        text-align: right;\n",
       "    }\n",
       "</style>\n",
       "<table border=\"1\" class=\"dataframe\">\n",
       "  <thead>\n",
       "    <tr style=\"text-align: right;\">\n",
       "      <th></th>\n",
       "      <th>Device</th>\n",
       "      <th>Brand</th>\n",
       "      <th>Corpus</th>\n",
       "      <th>year</th>\n",
       "      <th>Link</th>\n",
       "    </tr>\n",
       "  </thead>\n",
       "  <tbody>\n",
       "    <tr>\n",
       "      <th>0</th>\n",
       "      <td>Fire Max 11</td>\n",
       "      <td>Amazon</td>\n",
       "      <td>Amazon Fire Max 11 Android tablet. Announced May 2023. Features 11.0″  display, MT8188J chipset, 128 GB storage, 4 GB RAM.</td>\n",
       "      <td>2023</td>\n",
       "      <td>https://www.kimovil.com/en/where-to-buy-amazon-fire-max-11</td>\n",
       "    </tr>\n",
       "    <tr>\n",
       "      <th>1</th>\n",
       "      <td>iPhone 15 Pro Max</td>\n",
       "      <td>Apple</td>\n",
       "      <td>Apple iPhone 15 Pro Max smartphone. Announced Sep 2023. Features 6.7″  display, Apple A17 Pro chipset, 4441 mAh battery, 1024 GB storage, 8 GB RAM, Ceramic Shield glass.</td>\n",
       "      <td>2023</td>\n",
       "      <td>https://www.kimovil.com/en/where-to-buy-apple-iphone-15-pro-max</td>\n",
       "    </tr>\n",
       "    <tr>\n",
       "      <th>2</th>\n",
       "      <td>iPhone 15 Pro</td>\n",
       "      <td>Apple</td>\n",
       "      <td>Apple iPhone 15 Pro smartphone. Announced Sep 2023. Features 6.1″  display, Apple A17 Pro chipset, 3274 mAh battery, 1024 GB storage, 8 GB RAM, Ceramic Shield glass.</td>\n",
       "      <td>2023</td>\n",
       "      <td>https://www.kimovil.com/en/where-to-buy-apple-iphone-15-pro</td>\n",
       "    </tr>\n",
       "    <tr>\n",
       "      <th>3</th>\n",
       "      <td>iPhone 15 Plus</td>\n",
       "      <td>Apple</td>\n",
       "      <td>Apple iPhone 15 Plus smartphone. Announced Sep 2023. Features 6.7″  display, Apple A16 Bionic chipset, 4383 mAh battery, 512 GB storage, 6 GB RAM, Ceramic Shield glass.</td>\n",
       "      <td>2023</td>\n",
       "      <td>https://www.kimovil.com/en/where-to-buy-apple-iphone-15-plus</td>\n",
       "    </tr>\n",
       "    <tr>\n",
       "      <th>4</th>\n",
       "      <td>iPhone 15</td>\n",
       "      <td>Apple</td>\n",
       "      <td>Apple iPhone 15 smartphone. Announced Sep 2023. Features 6.1″  display, Apple A16 Bionic chipset, 3349 mAh battery, 512 GB storage, 6 GB RAM, Ceramic Shield glass.</td>\n",
       "      <td>2023</td>\n",
       "      <td>https://www.kimovil.com/en/where-to-buy-apple-iphone-15</td>\n",
       "    </tr>\n",
       "    <tr>\n",
       "      <th>...</th>\n",
       "      <td>...</td>\n",
       "      <td>...</td>\n",
       "      <td>...</td>\n",
       "      <td>...</td>\n",
       "      <td>...</td>\n",
       "    </tr>\n",
       "    <tr>\n",
       "      <th>533</th>\n",
       "      <td>V70</td>\n",
       "      <td>ZTE</td>\n",
       "      <td>ZTE V70 Android smartphone. Announced Jun 2023. Features 6.67″  display, MT6833P Dimensity 810 chipset, 5100 mAh battery, 256 GB storage, 8 GB RAM.</td>\n",
       "      <td>2023</td>\n",
       "      <td>https://www.kimovil.com/en/where-to-buy-zte-v70</td>\n",
       "    </tr>\n",
       "    <tr>\n",
       "      <th>534</th>\n",
       "      <td>Axon 50 Ultra</td>\n",
       "      <td>ZTE</td>\n",
       "      <td>ZTE Axon 50 Ultra Android smartphone. Announced Apr 2023. Features 6.67″  display, Snapdragon 8+ Gen 1 chipset, 5000 mAh battery, 512 GB storage, 12 GB RAM.</td>\n",
       "      <td>2023</td>\n",
       "      <td>https://www.kimovil.com/en/where-to-buy-zte-axon-50-ultra</td>\n",
       "    </tr>\n",
       "    <tr>\n",
       "      <th>535</th>\n",
       "      <td>Axon Pad</td>\n",
       "      <td>ZTE</td>\n",
       "      <td>ZTE Axon Pad Android tablet. Announced Apr 2023. Features 12.1″  display, Snapdragon 8+ Gen 1 chipset, 10000 mAh battery, 512 GB storage, 12 GB RAM.</td>\n",
       "      <td>2023</td>\n",
       "      <td>https://www.kimovil.com/en/where-to-buy-zte-axon-pad</td>\n",
       "    </tr>\n",
       "    <tr>\n",
       "      <th>536</th>\n",
       "      <td>nubia Z50 Ultra</td>\n",
       "      <td>ZTE</td>\n",
       "      <td>ZTE nubia Z50 Ultra Android smartphone. Announced Mar 2023. Features 6.8″  display, Snapdragon 8 Gen 2 chipset, 5000 mAh battery, 1024 GB storage, 16 GB RAM.</td>\n",
       "      <td>2023</td>\n",
       "      <td>https://www.kimovil.com/en/where-to-buy-zte-nubia-z50-ultra</td>\n",
       "    </tr>\n",
       "    <tr>\n",
       "      <th>537</th>\n",
       "      <td>nubia Pad 3D</td>\n",
       "      <td>ZTE</td>\n",
       "      <td>ZTE nubia Pad 3D Android tablet. Announced Feb 2023. Features 12.4″  display, Snapdragon 888 5G chipset, 9070 mAh battery, 256 GB storage, 8 GB RAM.</td>\n",
       "      <td>2023</td>\n",
       "      <td>https://www.kimovil.com/en/where-to-buy-zte-nubia-pad-3d</td>\n",
       "    </tr>\n",
       "  </tbody>\n",
       "</table>\n",
       "<p>538 rows × 5 columns</p>\n",
       "</div>"
      ],
      "text/plain": [
       "                Device   Brand  \\\n",
       "0          Fire Max 11  Amazon   \n",
       "1    iPhone 15 Pro Max   Apple   \n",
       "2        iPhone 15 Pro   Apple   \n",
       "3       iPhone 15 Plus   Apple   \n",
       "4            iPhone 15   Apple   \n",
       "..                 ...     ...   \n",
       "533                V70     ZTE   \n",
       "534      Axon 50 Ultra     ZTE   \n",
       "535           Axon Pad     ZTE   \n",
       "536    nubia Z50 Ultra     ZTE   \n",
       "537       nubia Pad 3D     ZTE   \n",
       "\n",
       "                                                                                                                                                                        Corpus  \\\n",
       "0                                                   Amazon Fire Max 11 Android tablet. Announced May 2023. Features 11.0″  display, MT8188J chipset, 128 GB storage, 4 GB RAM.   \n",
       "1    Apple iPhone 15 Pro Max smartphone. Announced Sep 2023. Features 6.7″  display, Apple A17 Pro chipset, 4441 mAh battery, 1024 GB storage, 8 GB RAM, Ceramic Shield glass.   \n",
       "2        Apple iPhone 15 Pro smartphone. Announced Sep 2023. Features 6.1″  display, Apple A17 Pro chipset, 3274 mAh battery, 1024 GB storage, 8 GB RAM, Ceramic Shield glass.   \n",
       "3     Apple iPhone 15 Plus smartphone. Announced Sep 2023. Features 6.7″  display, Apple A16 Bionic chipset, 4383 mAh battery, 512 GB storage, 6 GB RAM, Ceramic Shield glass.   \n",
       "4          Apple iPhone 15 smartphone. Announced Sep 2023. Features 6.1″  display, Apple A16 Bionic chipset, 3349 mAh battery, 512 GB storage, 6 GB RAM, Ceramic Shield glass.   \n",
       "..                                                                                                                                                                         ...   \n",
       "533                        ZTE V70 Android smartphone. Announced Jun 2023. Features 6.67″  display, MT6833P Dimensity 810 chipset, 5100 mAh battery, 256 GB storage, 8 GB RAM.   \n",
       "534               ZTE Axon 50 Ultra Android smartphone. Announced Apr 2023. Features 6.67″  display, Snapdragon 8+ Gen 1 chipset, 5000 mAh battery, 512 GB storage, 12 GB RAM.   \n",
       "535                       ZTE Axon Pad Android tablet. Announced Apr 2023. Features 12.1″  display, Snapdragon 8+ Gen 1 chipset, 10000 mAh battery, 512 GB storage, 12 GB RAM.   \n",
       "536              ZTE nubia Z50 Ultra Android smartphone. Announced Mar 2023. Features 6.8″  display, Snapdragon 8 Gen 2 chipset, 5000 mAh battery, 1024 GB storage, 16 GB RAM.   \n",
       "537                       ZTE nubia Pad 3D Android tablet. Announced Feb 2023. Features 12.4″  display, Snapdragon 888 5G chipset, 9070 mAh battery, 256 GB storage, 8 GB RAM.   \n",
       "\n",
       "     year                                                             Link  \n",
       "0    2023       https://www.kimovil.com/en/where-to-buy-amazon-fire-max-11  \n",
       "1    2023  https://www.kimovil.com/en/where-to-buy-apple-iphone-15-pro-max  \n",
       "2    2023      https://www.kimovil.com/en/where-to-buy-apple-iphone-15-pro  \n",
       "3    2023     https://www.kimovil.com/en/where-to-buy-apple-iphone-15-plus  \n",
       "4    2023          https://www.kimovil.com/en/where-to-buy-apple-iphone-15  \n",
       "..    ...                                                              ...  \n",
       "533  2023                  https://www.kimovil.com/en/where-to-buy-zte-v70  \n",
       "534  2023        https://www.kimovil.com/en/where-to-buy-zte-axon-50-ultra  \n",
       "535  2023             https://www.kimovil.com/en/where-to-buy-zte-axon-pad  \n",
       "536  2023      https://www.kimovil.com/en/where-to-buy-zte-nubia-z50-ultra  \n",
       "537  2023         https://www.kimovil.com/en/where-to-buy-zte-nubia-pad-3d  \n",
       "\n",
       "[538 rows x 5 columns]"
      ]
     },
     "execution_count": 21,
     "metadata": {},
     "output_type": "execute_result"
    }
   ],
   "source": [
    "df2022"
   ]
  },
  {
   "cell_type": "code",
   "execution_count": 22,
   "id": "063ef3bf-3199-4eb7-b6c1-dd99a4f09ab6",
   "metadata": {},
   "outputs": [],
   "source": [
    "import requests"
   ]
  },
  {
   "cell_type": "code",
   "execution_count": 23,
   "id": "8bcc6923-5ff4-4f1f-8658-6d9d692e61c4",
   "metadata": {},
   "outputs": [],
   "source": [
    "def requestAndreturnContent(link : str):\n",
    "    cookies = dict(BCPermissionLevel='PERSONAL')\n",
    "    html = requests.get(link, headers={\"User-Agent\": \"Mozilla/5.0\"}, cookies=cookies)\n",
    "    \n",
    "    return BeautifulSoup(html.content, 'html.parser')"
   ]
  },
  {
   "cell_type": "code",
   "execution_count": 24,
   "id": "80d62d08-fb1f-4f54-a964-60a7b103d318",
   "metadata": {},
   "outputs": [
    {
     "ename": "AttributeError",
     "evalue": "'NoneType' object has no attribute 'text'",
     "output_type": "error",
     "traceback": [
      "\u001b[0;31m---------------------------------------------------------------------------\u001b[0m",
      "\u001b[0;31mAttributeError\u001b[0m                            Traceback (most recent call last)",
      "Cell \u001b[0;32mIn[24], line 3\u001b[0m\n\u001b[1;32m      1\u001b[0m pageFound \u001b[38;5;241m=\u001b[39m []\n\u001b[1;32m      2\u001b[0m \u001b[38;5;28;01mfor\u001b[39;00m link \u001b[38;5;129;01min\u001b[39;00m df2022\u001b[38;5;241m.\u001b[39mLink:\n\u001b[0;32m----> 3\u001b[0m     \u001b[38;5;28;01mif\u001b[39;00m \u001b[43mrequestAndreturnContent\u001b[49m\u001b[43m(\u001b[49m\u001b[43mlink\u001b[49m\u001b[43m)\u001b[49m\u001b[38;5;241;43m.\u001b[39;49m\u001b[43mfind\u001b[49m\u001b[43m(\u001b[49m\u001b[38;5;124;43m\"\u001b[39;49m\u001b[38;5;124;43mh1\u001b[39;49m\u001b[38;5;124;43m\"\u001b[39;49m\u001b[43m)\u001b[49m\u001b[38;5;241;43m.\u001b[39;49m\u001b[43mtext\u001b[49m \u001b[38;5;241m!=\u001b[39m \u001b[38;5;124m\"\u001b[39m\u001b[38;5;124mPage not found\u001b[39m\u001b[38;5;124m\"\u001b[39m:\n\u001b[1;32m      4\u001b[0m         pageFound\u001b[38;5;241m.\u001b[39mappend(\u001b[38;5;28;01mTrue\u001b[39;00m)\n\u001b[1;32m      5\u001b[0m     \u001b[38;5;28;01melse\u001b[39;00m:\n",
      "\u001b[0;31mAttributeError\u001b[0m: 'NoneType' object has no attribute 'text'"
     ]
    }
   ],
   "source": [
    "pageFound = []\n",
    "for link in df2022.Link:\n",
    "    if requestAndreturnContent(link).find(\"h1\").text != \"Page not found\":\n",
    "        pageFound.append(True)\n",
    "    else:\n",
    "        pageFound.append(False)"
   ]
  },
  {
   "cell_type": "code",
   "execution_count": null,
   "id": "384551d8-8514-47e2-b804-cae0c2c5e2ee",
   "metadata": {},
   "outputs": [],
   "source": [
    "    if requestAndreturnContent(df2022.Link[17]).find(\"h1\").text != \"Page not found\":\n",
    "        pageFound.append(True)\n",
    "    else:\n",
    "        pageFound.append(False)"
   ]
  },
  {
   "cell_type": "code",
   "execution_count": 51,
   "id": "c7890d90-ebe0-4856-a45c-3d4c47a5f101",
   "metadata": {},
   "outputs": [
    {
     "data": {
      "text/plain": [
       "17"
      ]
     },
     "execution_count": 51,
     "metadata": {},
     "output_type": "execute_result"
    }
   ],
   "source": [
    "len(pageFound)"
   ]
  },
  {
   "cell_type": "code",
   "execution_count": 45,
   "id": "2b2d05a8-9e86-4cec-b550-51053fdc1cec",
   "metadata": {},
   "outputs": [],
   "source": [
    "dev = soup.find(\"h1\")"
   ]
  },
  {
   "cell_type": "code",
   "execution_count": 47,
   "id": "c4a89817-60da-4992-8492-b4a21db245bd",
   "metadata": {},
   "outputs": [
    {
     "data": {
      "text/plain": [
       "True"
      ]
     },
     "execution_count": 47,
     "metadata": {},
     "output_type": "execute_result"
    }
   ],
   "source": [
    "dev.text == \"Page not found\""
   ]
  },
  {
   "cell_type": "code",
   "execution_count": null,
   "id": "82ba53a0-3cc4-464a-93b1-11fcaaf0dc3c",
   "metadata": {},
   "outputs": [],
   "source": []
  },
  {
   "cell_type": "code",
   "execution_count": 54,
   "id": "0adfe725-3695-4a12-bd22-0eb309994834",
   "metadata": {},
   "outputs": [
    {
     "data": {
      "text/plain": [
       "'https://www.kimovil.com/en/where-to-buy-blackview-oscal-pad-15'"
      ]
     },
     "execution_count": 54,
     "metadata": {},
     "output_type": "execute_result"
    }
   ],
   "source": [
    "df2022.Link[18]"
   ]
  },
  {
   "cell_type": "code",
   "execution_count": null,
   "id": "2c7b4927-01a5-4044-bb67-b1fea014ab74",
   "metadata": {},
   "outputs": [],
   "source": []
  }
 ],
 "metadata": {
  "kernelspec": {
   "display_name": "Python 3 (ipykernel)",
   "language": "python",
   "name": "python3"
  },
  "language_info": {
   "codemirror_mode": {
    "name": "ipython",
    "version": 3
   },
   "file_extension": ".py",
   "mimetype": "text/x-python",
   "name": "python",
   "nbconvert_exporter": "python",
   "pygments_lexer": "ipython3",
   "version": "3.10.12"
  }
 },
 "nbformat": 4,
 "nbformat_minor": 5
}
